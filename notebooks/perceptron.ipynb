{
 "cells": [
  {
   "cell_type": "markdown",
   "id": "62ad64d7",
   "metadata": {},
   "source": [
    "# Perceptron\n",
    "\n",
    "The basic equation or model defining perceptron is as follows.\n",
    "\n",
    "$$\n",
    "y = 1, \\ if \\sum_{i=1}^n\\left( w_i * x_i \\right) \\geq \\theta\n",
    "$$\n",
    "$$\n",
    "y = 0, \\ if \\sum_{i=1}^n\\left( w_i * x_i \\right) < \\theta\n",
    "$$\n",
    "\n",
    "Rewriting the equation to accomodate $i = 0$, for $x$ and $w$\n",
    "\n",
    "$$\n",
    "y = 1, \\ if \\sum_{i=1}^n\\left( w_i * x_i \\right) - \\theta \\geq 0\n",
    "$$\n",
    "when $x_0 = 1$ & $w_0 = -\\theta$\n",
    "$$\n",
    "y = 1, \\ if \\sum_{i=0}^n\\left( w_i * x_i \\right) \\geq 0\n",
    "$$\n",
    "similarly\n",
    "$$\n",
    "y = 0, \\ if \\sum_{i=0}^n\\left( w_i * x_i \\right) < 0\n",
    "$$\n",
    "\n",
    "where,\n",
    "- $\\theta$ is the bias or prejudice\n",
    "- $w_i$ is the weights of the perceptron\n",
    "- $x_i$ is the inputs given to the perceptron\n",
    "\n",
    "\n"
   ]
  }
 ],
 "metadata": {
  "kernelspec": {
   "display_name": ".venv",
   "language": "python",
   "name": "python3"
  },
  "language_info": {
   "codemirror_mode": {
    "name": "ipython",
    "version": 3
   },
   "file_extension": ".py",
   "mimetype": "text/x-python",
   "name": "python",
   "nbconvert_exporter": "python",
   "pygments_lexer": "ipython3",
   "version": "3.10.12"
  }
 },
 "nbformat": 4,
 "nbformat_minor": 5
}
